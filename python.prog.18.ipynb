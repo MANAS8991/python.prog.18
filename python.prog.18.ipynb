{
 "cells": [
  {
   "cell_type": "markdown",
   "id": "211cae3c",
   "metadata": {},
   "source": [
    "# 1 Create a function that takes a list of non-negative integers and strings and return a new list without the strings.\n",
    "# Examples\n",
    "# filter_list([1, 2, &quot;a&quot;, &quot;b&quot;]) ➞ [1, 2]\n",
    "# filter_list([1, &quot;a&quot;, &quot;b&quot;, 0, 15]) ➞ [1, 0, 15]\n",
    "# filter_list([1, 2, &quot;aasf&quot;, &quot;1&quot;, &quot;123&quot;, 123]) ➞ [1, 2, 123]"
   ]
  },
  {
   "cell_type": "code",
   "execution_count": 1,
   "id": "eaacab56",
   "metadata": {},
   "outputs": [
    {
     "name": "stdout",
     "output_type": "stream",
     "text": [
      "[1, 2]\n",
      "[1, 0, 15]\n",
      "[1, 2, 123]\n"
     ]
    }
   ],
   "source": [
    "def filter_list(lst):\n",
    "    return [num for num in lst if isinstance(num, int)]\n",
    "\n",
    "# Examples\n",
    "print(filter_list([1, 2, \"a\", \"b\"]))             # Output: [1, 2]\n",
    "print(filter_list([1, \"a\", \"b\", 0, 15]))         # Output: [1, 0, 15]\n",
    "print(filter_list([1, 2, \"aasf\", \"1\", \"123\", 123]))  # Output: [1, 2, 123]\n"
   ]
  },
  {
   "cell_type": "markdown",
   "id": "1b260042",
   "metadata": {},
   "source": [
    "# 2 The &quot;Reverser&quot; takes a string as input and returns that string in reverse order, with the opposite case.\n",
    "# Examples\n",
    "# reverse(&quot;Hello World&quot;) ➞ &quot;DLROw OLLEh&quot;\n",
    "# reverse(&quot;ReVeRsE&quot;) ➞ &quot;eSrEvEr&quot;\n",
    "# reverse(&quot;Radar&quot;) ➞ &quot;RADAr&quot;"
   ]
  },
  {
   "cell_type": "code",
   "execution_count": 2,
   "id": "eac491e2",
   "metadata": {},
   "outputs": [
    {
     "name": "stdout",
     "output_type": "stream",
     "text": [
      "DLROw OLLEh\n",
      "eSrEvEr\n",
      "RADAr\n"
     ]
    }
   ],
   "source": [
    "def reverse(text):\n",
    "    reversed_text = text[::-1]  # Reverse the string using slicing\n",
    "    return reversed_text.swapcase()  # Swap the case of characters\n",
    "\n",
    "# Examples\n",
    "print(reverse(\"Hello World\"))   # Output: \"DLROw OLLEh\"\n",
    "print(reverse(\"ReVeRsE\"))       # Output: \"eSrEvEr\"\n",
    "print(reverse(\"Radar\"))         # Output: \"RADAr\"\n"
   ]
  },
  {
   "cell_type": "markdown",
   "id": "dbc42afe",
   "metadata": {},
   "source": [
    "# 3 You can assign variables from lists like this:\n",
    "# lst = [1, 2, 3, 4, 5, 6]\n",
    "# first = lst[0]\n",
    "# middle = lst[1:-1]\n",
    "# last = lst[-1]\n",
    "# print(first) ➞ outputs 1\n",
    "# print(middle) ➞ outputs [2, 3, 4, 5]\n",
    "# print(last) ➞ outputs 6\n",
    "# With Python 3, you can assign variables from lists in a much more succinct way. Create\n",
    "# variables first, middle and last from the given list using destructuring assignment\n",
    "# (check the Resources tab for some examples), where:\n",
    "# first ➞ 1\n",
    "# middle ➞ [2, 3, 4, 5]\n",
    "# last ➞ 6\n",
    "# Your task is to unpack the list writeyourcodehere into three variables, being first,\n",
    "# middle, and last, with middle being everything in between the first and last element. Then\n",
    "# print all three variables."
   ]
  },
  {
   "cell_type": "code",
   "execution_count": 3,
   "id": "de355763",
   "metadata": {},
   "outputs": [
    {
     "name": "stdout",
     "output_type": "stream",
     "text": [
      "1\n",
      "[2, 3, 4, 5]\n",
      "6\n"
     ]
    }
   ],
   "source": [
    "lst = [1, 2, 3, 4, 5, 6]\n",
    "first, *middle, last = lst\n",
    "\n",
    "print(first)   # Output: 1\n",
    "print(middle)  # Output: [2, 3, 4, 5]\n",
    "print(last)    # Output: 6\n"
   ]
  },
  {
   "cell_type": "markdown",
   "id": "e8291163",
   "metadata": {},
   "source": [
    "# 4 Write a function that calculates the factorial of a number recursively.\n",
    "# Examples\n",
    "# factorial(5) ➞ 120\n",
    "# factorial(3) ➞ 6\n",
    "# factorial(1) ➞ 1\n",
    "# factorial(0) ➞ 1"
   ]
  },
  {
   "cell_type": "code",
   "execution_count": 4,
   "id": "0e18cc90",
   "metadata": {},
   "outputs": [
    {
     "name": "stdout",
     "output_type": "stream",
     "text": [
      "120\n",
      "6\n",
      "1\n",
      "1\n"
     ]
    }
   ],
   "source": [
    "def factorial(n):\n",
    "    if n == 0 or n == 1:\n",
    "        return 1\n",
    "    else:\n",
    "        return n * factorial(n - 1)\n",
    "print(factorial(5))  # Output: 120\n",
    "print(factorial(3))  # Output: 6\n",
    "print(factorial(1))  # Output: 1\n",
    "print(factorial(0))  # Output: 1\n"
   ]
  },
  {
   "cell_type": "markdown",
   "id": "4bc01e8d",
   "metadata": {},
   "source": [
    "# 5 Write a function that moves all elements of one type to the end of the list.\n",
    "# Examples\n",
    "# move_to_end([1, 3, 2, 4, 4, 1], 1) ➞ [3, 2, 4, 4, 1, 1]\n",
    "# # Move all the 1s to the end of the array.\n",
    "# move_to_end([7, 8, 9, 1, 2, 3, 4], 9) ➞ [7, 8, 1, 2, 3, 4, 9]\n",
    "# move_to_end([&quot;a&quot;, &quot;a&quot;, &quot;a&quot;, &quot;b&quot;], &quot;a&quot;) ➞ [&quot;b&quot;, &quot;a&quot;, &quot;a&quot;, &quot;a&quot;]"
   ]
  },
  {
   "cell_type": "code",
   "execution_count": 5,
   "id": "c99740a7",
   "metadata": {},
   "outputs": [
    {
     "name": "stdout",
     "output_type": "stream",
     "text": [
      "[3, 2, 4, 4, 1, 1]\n",
      "[7, 8, 1, 2, 3, 4, 9]\n",
      "['b', 'a', 'a', 'a']\n"
     ]
    }
   ],
   "source": [
    "def move_to_end(lst, element):\n",
    "    count = lst.count(element)\n",
    "    lst = [x for x in lst if x != element]\n",
    "    lst.extend([element] * count)\n",
    "    return lst\n",
    "print(move_to_end([1, 3, 2, 4, 4, 1], 1))  # Output: [3, 2, 4, 4, 1, 1]\n",
    "print(move_to_end([7, 8, 9, 1, 2, 3, 4], 9))  # Output: [7, 8, 1, 2, 3, 4, 9]\n",
    "print(move_to_end([\"a\", \"a\", \"a\", \"b\"], \"a\"))  # Output: [\"b\", \"a\", \"a\", \"a\"]\n"
   ]
  },
  {
   "cell_type": "code",
   "execution_count": null,
   "id": "fe2f32cb",
   "metadata": {},
   "outputs": [],
   "source": []
  }
 ],
 "metadata": {
  "kernelspec": {
   "display_name": "Python 3 (ipykernel)",
   "language": "python",
   "name": "python3"
  },
  "language_info": {
   "codemirror_mode": {
    "name": "ipython",
    "version": 3
   },
   "file_extension": ".py",
   "mimetype": "text/x-python",
   "name": "python",
   "nbconvert_exporter": "python",
   "pygments_lexer": "ipython3",
   "version": "3.9.12"
  }
 },
 "nbformat": 4,
 "nbformat_minor": 5
}
